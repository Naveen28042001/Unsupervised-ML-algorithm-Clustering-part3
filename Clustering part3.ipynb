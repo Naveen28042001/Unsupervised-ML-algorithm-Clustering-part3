{
 "cells": [
  {
   "cell_type": "code",
   "execution_count": null,
   "id": "0412ef27-7215-4b4c-930b-5f03d179a444",
   "metadata": {},
   "outputs": [],
   "source": [
    "Q1. Explain the basic concept of clustering and give examples of applications where clustering is useful.\n",
    "\n",
    "Clustering is a fundamental technique in unsupervised machine learning that involves the grouping of similar data points into clusters, where data points within the same cluster are more similar to each other than to those in other clusters.\n",
    "\n",
    "Applications of Clustering:\n",
    "Customer Segmentation: \n",
    "    Businesses use clustering to group customers with similar preferences or behaviors, enabling targeted marketing and personalized recommendations. For example, an e-commerce company may use clustering to categorize customers based on their purchase history.\n",
    "Image Segmentation: \n",
    "    Clustering is used in image processing to segment images into meaningful regions based on similarities in pixel intensity or color. This is useful in various applications, such as object recognition, medical image analysis, and satellite image processing.\n",
    "Recommendation Systems:\n",
    "    Clustering is used in recommendation systems to group users or items with similar characteristics, enabling personalized recommendations for users based on their preferences and behaviors."
   ]
  },
  {
   "cell_type": "code",
   "execution_count": null,
   "id": "f217106e-faaf-4eae-9b92-bba2a63066df",
   "metadata": {},
   "outputs": [],
   "source": [
    "Q2. What is DBSCAN and how does it differ from other clustering algorithms such as k-means and\n",
    "hierarchical clustering?\n",
    "\n",
    "DBSCAN, which stands for Density-Based Spatial Clustering of Applications with Noise, is a popular density-based clustering algorithm used to identify clusters of arbitrary shapes in a dataset. DBSCAN does not require specifying the number of clusters beforehand, making it especially useful for datasets where the number of clusters is not known a priori. \n",
    "\n",
    "The key concepts of DBSCAN include:\n",
    "Core Points: \n",
    "    A data point is considered a core point if within a specified radius, there are at least a minimum number of points.\n",
    "Border Points: \n",
    "    A data point is considered a border point if it is within the specified radius of a core point but does not have the minimum number of points within the radius.\n",
    "Noise Points: \n",
    "    Data points that are neither core points nor border points are considered noise points.\n",
    "    \n",
    "DBSCAN differs from other clustering algorithms, such as k-means and hierarchical clustering, in the following ways:\n",
    "Number of Clusters: \n",
    "    DBSCAN does not require specifying the number of clusters as a parameter, unlike k-means, which requires the number of clusters to be predefined.\n",
    "Handling Outliers and Noise: \n",
    "    DBSCAN is capable of identifying noise points and does not force every point into a cluster, unlike k-means and hierarchical clustering, which often assign all points to a cluster.\n",
    "Cluster Shape and Density: \n",
    "    DBSCAN can identify clusters of different shapes and sizes, whereas k-means tends to identify spherical clusters and hierarchical clustering can struggle with non-globular shapes.\n",
    "Dependency on Distance and Density: \n",
    "    DBSCAN relies on the notions of density and distance, making it more suitable for datasets where the clusters have varying densities and shapes, compared to k-means and hierarchical clustering, which depend on the concept of distance alone.\n",
    "Performance with Large Datasets: \n",
    "    DBSCAN can be more efficient than some other clustering algorithms for large datasets, as it does not need to compute the entire distance matrix between all pairs of data points.\n"
   ]
  },
  {
   "cell_type": "code",
   "execution_count": null,
   "id": "9d96373a-64de-4d83-9c95-1087799d0299",
   "metadata": {},
   "outputs": [],
   "source": [
    "Q3. How do you determine the optimal values for the epsilon and minimum points parameters in DBSCAN\n",
    "clustering?\n",
    "\n",
    "Several methods can be used to determine the optimal values for these parameters:\n",
    "\n",
    "Visualization and Analysis:\n",
    "    Visualize the data and run the DBSCAN algorithm with different parameter values. Examine the resulting clusters and noise points to understand how the choice of parameters affects the clustering outcome. Adjust the parameters until the clusters align with the expected patterns in the data.\n",
    "\n",
    "Elbow Method:\n",
    "    If there is a clear elbow in the plot of the distances to the k-nearest neighbors, this can be used to determine an appropriate value for ε. The elbow indicates a point beyond which the distances start to decrease more slowly, suggesting a reasonable neighborhood size for clustering.\n",
    "\n",
    "Reachability Plot:\n",
    "    Construct a reachability plot, which plots the distance of each point to its k-th nearest neighbor. The reachability plot can help identify an appropriate value for ε based on the reachability distance beyond which points start to form clusters.\n",
    "\n",
    "Silhouette Score:\n",
    "    Use the silhouette score to evaluate the clustering results for different parameter values. Choose the parameter values that yield the highest silhouette score, indicating well-defined and compact clusters.\n",
    "\n",
    "Grid Search:\n",
    "    Perform a grid search over a range of parameter values for ε and the minimum points, and evaluate the performance of DBSCAN using metrics such as silhouette score, completeness, and homogeneity. Select the parameter values that optimize the chosen performance metrics.\n"
   ]
  },
  {
   "cell_type": "code",
   "execution_count": null,
   "id": "b7ea5ede-9984-404b-8183-587f60e783cd",
   "metadata": {},
   "outputs": [],
   "source": [
    "Q4. How does DBSCAN clustering handle outliers in a dataset?\n",
    "\n",
    "Noise Points: These are data points that are neither core points nor border points. They do not belong to any cluster and are considered outliers.\n",
    "\n",
    "By considering the density of the data points, DBSCAN effectively separates out the low-density regions, which are often populated by noise points and outliers, from the dense regions that form the core of the clusters. This capability allows DBSCAN to handle outliers naturally, without explicitly requiring a predefined threshold or a separate step for outlier detection."
   ]
  },
  {
   "cell_type": "code",
   "execution_count": null,
   "id": "4a19ed43-16bb-4044-8532-c5bb8e2deb8b",
   "metadata": {},
   "outputs": [],
   "source": [
    "Q5. How does DBSCAN clustering differ from k-means clustering?\n",
    "\n",
    "Here are some key differences between DBSCAN and k-means clustering:\n",
    "Handling of Outliers:\n",
    "    DBSCAN can handle outliers effectively by identifying them as noise points, while k-means is sensitive to outliers as they can significantly affect the cluster centroids and distort the results.\n",
    "Number of Clusters:\n",
    "    DBSCAN does not require the user to specify the number of clusters in advance, making it suitable for datasets where the number of clusters is not known. In contrast, k-means requires the user to define the number of clusters beforehand.\n",
    "Dependency on Distance:\n",
    "    DBSCAN uses the concept of density and distance to define clusters, focusing on the density of data points within a neighborhood. K-means relies on minimizing the distance between data points and the cluster centroids."
   ]
  },
  {
   "cell_type": "code",
   "execution_count": null,
   "id": "18e10976-9273-434a-8eee-040cdad067c8",
   "metadata": {},
   "outputs": [],
   "source": [
    "Q6. Can DBSCAN clustering be applied to datasets with high dimensional feature spaces? If so, what are\n",
    "some potential challenges?\n",
    "\n",
    "DBSCAN (Density-Based Spatial Clustering of Applications with Noise) can be applied to datasets with high-dimensional feature spaces, but there are several potential challenges associated with using DBSCAN in such cases. \n",
    "\n",
    "Some of these challenges include:\n",
    "Curse of Dimensionality:\n",
    "    In high-dimensional spaces, the distance between points becomes less meaningful, and the data points tend to be equally distant from each other, leading to uniform density. This can make it difficult for DBSCAN to identify meaningful clusters based on local density.\n",
    "Parameter Sensitivity: \n",
    "    The performance of DBSCAN is highly sensitive to the choice of parameters, such as the epsilon (ε) parameter and the minimum points parameter. In high-dimensional spaces, determining suitable parameter values becomes more challenging, as the data points are more sparse, making it harder to define meaningful neighborhood relationships.\n",
    "Dimension Reduction Requirements: \n",
    "    To address the challenges of high-dimensional data, dimensionality reduction techniques may be necessary to reduce the number of dimensions while preserving the essential structure of the data. This can help improve the performance of DBSCAN by mitigating the curse of dimensionality and reducing the sensitivity to parameter choices.\n"
   ]
  },
  {
   "cell_type": "code",
   "execution_count": null,
   "id": "520c7f93-9e0d-4b29-b2a6-021f7d5af106",
   "metadata": {},
   "outputs": [],
   "source": [
    "Q7. How does DBSCAN clustering handle clusters with varying densities?\n",
    "\n",
    "By differentiating between core points, border points, and noise points based on local density, DBSCAN can effectively capture clusters with varying densities. It can identify both dense, compact clusters as well as sparse, less densely populated clusters in the dataset. This capability allows DBSCAN to handle datasets where clusters may have irregular shapes and varying levels of data point concentration.\n",
    "\n",
    "The flexibility of DBSCAN in accommodating clusters with varying densities makes it a powerful tool for clustering datasets with complex structures and where the density of clusters may not be uniform. It enables the algorithm to capture the local structures of the data points, allowing for the identification of clusters with different levels of density, which may not be possible with traditional algorithms like k-means or hierarchical clustering."
   ]
  },
  {
   "cell_type": "code",
   "execution_count": null,
   "id": "841881ca-de43-45e8-9724-ec6beb803645",
   "metadata": {},
   "outputs": [],
   "source": [
    "Q8. What are some common evaluation metrics used to assess the quality of DBSCAN clustering results?\n",
    "\n",
    "Some common evaluation metrics for DBSCAN clustering include:\n",
    "Silhouette Score:\n",
    "    The silhouette score measures the compactness and separation of clusters. It computes the mean silhouette coefficient for all samples, where values close to +1 indicate that the sample is far away from the neighboring clusters, and values close to 0 indicate that the sample is close to the decision boundary between two neighboring clusters.\n",
    "Adjusted Rand Index (ARI):\n",
    "    The Adjusted Rand Index measures the similarity between the clustering results and the ground truth labels, providing a measure of the agreement between the two. It assesses the clustering performance based on the accuracy of the clustering results compared to a known ground truth.\n",
    "Jaccard Index:\n",
    "    The Jaccard index evaluates the similarity between two sets by measuring the intersection over the union of the sets. It can be used to assess the similarity between the clustering results and the ground truth labels."
   ]
  },
  {
   "cell_type": "code",
   "execution_count": null,
   "id": "493e8d06-1ab6-4392-bcd4-3c227058c76b",
   "metadata": {},
   "outputs": [],
   "source": [
    "Q9. Can DBSCAN clustering be used for semi-supervised learning tasks?\n",
    "\n",
    "DBSCAN (Density-Based Spatial Clustering of Applications with Noise) is primarily designed for unsupervised learning tasks and is commonly used for clustering unlabeled data. However, DBSCAN can be leveraged in semi-supervised learning settings to complement existing labeled data and aid in the identification of outliers or noise points. "
   ]
  },
  {
   "cell_type": "code",
   "execution_count": null,
   "id": "56e6641b-e63a-4990-b52b-619607d11db2",
   "metadata": {},
   "outputs": [],
   "source": [
    "Q10. How does DBSCAN clustering handle datasets with noise or missing values?\n",
    "\n",
    "Here's how DBSCAN can handle datasets with noise or missing values:\n",
    "Noise Handling:\n",
    "    DBSCAN is designed to handle noise points, and it can identify and label data points that do not belong to any cluster as noise points. These noise points are considered outliers and are not assigned to any specific cluster, allowing DBSCAN to account for the presence of noise in the dataset during the clustering process.\n",
    "Missing Value Imputation:\n",
    "    Before applying DBSCAN, it is often necessary to impute or remove missing values from the dataset, as DBSCAN does not handle missing values inherently. Various imputation techniques, such as mean imputation, median imputation, or using predictive models, can be employed to fill in missing values or to preprocess the data before clustering.\n",
    "Data Preprocessing:\n",
    "     It is crucial to preprocess the data to handle noise and missing values effectively. Techniques such as data normalization, feature scaling, and data imputation can be used to prepare the dataset for clustering with DBSCAN. Handling noise and missing values through appropriate preprocessing can enhance the robustness and reliability of the clustering results.\n",
    "Parameter Tuning:\n",
    "    When applying DBSCAN to datasets with noise or missing values, it is essential to choose appropriate values for the epsilon (ε) parameter and the minimum points parameter. Tuning these parameters based on the characteristics of the data and the specific noise or missing value patterns can help improve the performance of DBSCAN for such datasets.    "
   ]
  },
  {
   "cell_type": "code",
   "execution_count": null,
   "id": "e79148ad-1823-47e8-a02e-b16e4dfee498",
   "metadata": {},
   "outputs": [],
   "source": [
    "Q11. Implement the DBSCAN algorithm using a python programming language, and apply it to a sample\n",
    "dataset. Discuss the clustering results and interpret the meaning of the obtained clusters."
   ]
  },
  {
   "cell_type": "code",
   "execution_count": 27,
   "id": "ab6b8b2b-08ec-4803-a8dc-ada1aa883a61",
   "metadata": {},
   "outputs": [],
   "source": [
    "import pandas as pd\n",
    "import numpy as np\n",
    "import matplotlib.pyplot as plt\n",
    "%matplotlib inline"
   ]
  },
  {
   "cell_type": "code",
   "execution_count": 28,
   "id": "39988981-35bf-42de-ab14-eebad4b798ad",
   "metadata": {},
   "outputs": [],
   "source": [
    "from sklearn.datasets import make_moons"
   ]
  },
  {
   "cell_type": "code",
   "execution_count": 29,
   "id": "a5aac57a-0ff9-4106-9f84-de4ad8a79223",
   "metadata": {},
   "outputs": [],
   "source": [
    "x,y = make_moons(n_samples = 250,noise = 0.10)"
   ]
  },
  {
   "cell_type": "code",
   "execution_count": 30,
   "id": "104159ac-abc8-44ae-9721-a326aa4bba08",
   "metadata": {},
   "outputs": [
    {
     "data": {
      "text/plain": [
       "array([[ 0.06767382,  0.21805017],\n",
       "       [ 1.30919575, -0.43954812],\n",
       "       [-0.16510491,  1.04510727],\n",
       "       [-0.04854313,  0.31894958],\n",
       "       [-0.8157586 ,  0.4950198 ],\n",
       "       [ 1.19064629, -0.46358412],\n",
       "       [ 1.00299434, -0.44054553],\n",
       "       [ 0.93208103, -0.23720407],\n",
       "       [-0.16525359,  1.24718746],\n",
       "       [ 1.62089451, -0.18367037],\n",
       "       [ 0.94652589, -0.58808722],\n",
       "       [ 1.06633996,  0.15153926],\n",
       "       [ 2.11065598,  0.12857309],\n",
       "       [ 0.90784695,  0.24001172],\n",
       "       [ 0.23965185, -0.13352643],\n",
       "       [-1.04588338, -0.04031909],\n",
       "       [-0.47136002,  0.89139682],\n",
       "       [ 1.44845163, -0.43057746],\n",
       "       [-0.81739823,  0.22442389],\n",
       "       [ 0.10196469,  0.41181547],\n",
       "       [-1.12671763,  0.13656165],\n",
       "       [ 1.89968183,  0.05053661],\n",
       "       [ 0.23471701, -0.33431645],\n",
       "       [ 0.03622262,  0.07088292],\n",
       "       [ 0.39855832,  0.80373433],\n",
       "       [ 0.23796578,  0.95434039],\n",
       "       [ 1.69393237, -0.24183928],\n",
       "       [ 2.04070265,  0.57820194],\n",
       "       [ 2.12619587,  0.35784499],\n",
       "       [ 0.33790938, -0.26305517],\n",
       "       [ 0.61452877,  0.66431014],\n",
       "       [ 1.18911331, -0.27798058],\n",
       "       [ 1.99282057,  0.05348463],\n",
       "       [-0.32895672,  0.90803475],\n",
       "       [ 0.49701196,  0.81557907],\n",
       "       [ 0.47720343,  1.09932435],\n",
       "       [-0.57474457,  0.9556643 ],\n",
       "       [ 0.59255377,  0.81123243],\n",
       "       [ 2.06040595,  0.16572133],\n",
       "       [ 0.80792507,  0.37632524],\n",
       "       [ 1.71750825, -0.17558578],\n",
       "       [ 0.52940502,  0.85181732],\n",
       "       [-0.72195594,  0.47490772],\n",
       "       [ 0.07502497, -0.04235478],\n",
       "       [ 1.4155906 , -0.27761608],\n",
       "       [ 1.13986941, -0.46225505],\n",
       "       [ 1.29522085, -0.38536283],\n",
       "       [ 0.01257904, -0.07332099],\n",
       "       [ 1.68624786, -0.00521767],\n",
       "       [ 0.4791009 , -0.30567608],\n",
       "       [ 1.53170199, -0.12326997],\n",
       "       [-0.27827911,  1.08063646],\n",
       "       [ 0.66120098, -0.40606218],\n",
       "       [-0.70679051,  0.6620702 ],\n",
       "       [ 1.89553944,  0.23638196],\n",
       "       [ 0.82961974,  0.45929382],\n",
       "       [ 1.06788427,  0.32480699],\n",
       "       [-0.89194167,  0.47801608],\n",
       "       [ 0.91482315,  0.64461477],\n",
       "       [-0.92425159,  0.34722472],\n",
       "       [ 0.1313859 ,  0.15660535],\n",
       "       [ 0.05350813,  0.37550825],\n",
       "       [-0.84212458,  0.23850016],\n",
       "       [ 1.06763721, -0.39470322],\n",
       "       [ 0.56766618, -0.38870489],\n",
       "       [ 0.77576524,  0.17910508],\n",
       "       [ 1.74295781, -0.07839719],\n",
       "       [ 0.67652301, -0.61060016],\n",
       "       [ 1.1040864 , -0.55178294],\n",
       "       [-0.42192202,  0.76164501],\n",
       "       [ 0.98883674,  0.36346591],\n",
       "       [ 0.72854993,  0.61674427],\n",
       "       [ 1.08792612, -0.53616834],\n",
       "       [ 0.46240026,  0.8728058 ],\n",
       "       [ 0.05628654,  0.90450335],\n",
       "       [ 1.19777781, -0.26631049],\n",
       "       [ 1.48142451, -0.20362481],\n",
       "       [ 0.80066972, -0.67955357],\n",
       "       [-0.95280195,  0.36960946],\n",
       "       [ 0.72733039, -0.39529517],\n",
       "       [ 0.87869778,  0.39756716],\n",
       "       [ 0.47203705, -0.29894881],\n",
       "       [ 0.02719197,  1.07980068],\n",
       "       [-0.50439637,  0.88531551],\n",
       "       [ 1.03347967,  0.39760964],\n",
       "       [-0.20210172,  0.98542767],\n",
       "       [ 1.8035075 , -0.03510788],\n",
       "       [ 1.67800359, -0.06643526],\n",
       "       [ 1.52369682, -0.13100701],\n",
       "       [-0.04656632,  1.00706228],\n",
       "       [ 2.11725315,  0.23080013],\n",
       "       [ 0.75052232, -0.58821568],\n",
       "       [ 1.99447989, -0.07712824],\n",
       "       [ 0.53034169, -0.52791466],\n",
       "       [-0.22713853,  0.9348207 ],\n",
       "       [-0.98749884,  0.15392105],\n",
       "       [ 0.3800171 , -0.25537314],\n",
       "       [ 0.25846138,  0.15499507],\n",
       "       [ 1.46283146, -0.3104166 ],\n",
       "       [-0.65339257,  0.7467873 ],\n",
       "       [ 0.6668317 , -0.57765759],\n",
       "       [ 0.2006817 ,  0.94362359],\n",
       "       [ 2.06865752,  0.37773037],\n",
       "       [ 0.73286777,  0.55038238],\n",
       "       [ 2.01794675,  0.11809846],\n",
       "       [ 0.11509619,  0.41876193],\n",
       "       [ 1.86344461,  0.60861999],\n",
       "       [ 0.19963873,  0.83398057],\n",
       "       [ 0.83261376,  0.57640065],\n",
       "       [ 1.02433156, -0.130094  ],\n",
       "       [ 0.54524191,  0.92082312],\n",
       "       [ 0.83755771,  0.53208126],\n",
       "       [ 0.83703531, -0.55535412],\n",
       "       [-0.61181022,  0.78724289],\n",
       "       [ 0.18124634,  0.04773031],\n",
       "       [ 0.61019052,  0.91051343],\n",
       "       [-0.49992511,  0.88879636],\n",
       "       [-0.32067421,  0.96749315],\n",
       "       [-0.36125254,  0.68146492],\n",
       "       [ 0.6442647 ,  0.77681136],\n",
       "       [ 2.07943722,  0.4052431 ],\n",
       "       [-0.36759186,  0.85442523],\n",
       "       [ 0.33020871, -0.21776944],\n",
       "       [-1.12250499,  0.16670007],\n",
       "       [-0.9789604 ,  0.2021057 ],\n",
       "       [-0.57076326,  0.66224649],\n",
       "       [ 1.38467318, -0.48494437],\n",
       "       [ 0.71673775, -0.5577351 ],\n",
       "       [ 1.92566932,  0.1021668 ],\n",
       "       [-0.47111686,  0.70846722],\n",
       "       [-0.42609203,  0.90951367],\n",
       "       [ 2.01547599,  0.23252565],\n",
       "       [ 1.88802509, -0.06307482],\n",
       "       [ 0.26844625,  0.12134388],\n",
       "       [-0.58289089,  0.60878763],\n",
       "       [ 0.41084304,  0.96620521],\n",
       "       [ 0.77835659,  0.57977383],\n",
       "       [ 0.28911768,  1.14619388],\n",
       "       [-0.16118377,  1.01174526],\n",
       "       [ 0.52650855, -0.56301259],\n",
       "       [ 0.21020527,  1.183419  ],\n",
       "       [ 0.37200331, -0.32213065],\n",
       "       [ 0.22619642, -0.27404204],\n",
       "       [ 1.88670559,  0.4893103 ],\n",
       "       [ 0.43710596,  0.89119254],\n",
       "       [-0.85982586,  0.37782987],\n",
       "       [ 0.23461546,  0.90734692],\n",
       "       [-0.79683391,  0.51112737],\n",
       "       [-0.95229118,  0.61940752],\n",
       "       [ 0.8037606 ,  0.92819653],\n",
       "       [ 0.15676553, -0.18741515],\n",
       "       [ 0.29250546,  1.10106295],\n",
       "       [ 0.88381359,  0.00701947],\n",
       "       [ 1.63968001, -0.40481651],\n",
       "       [-1.14131656,  0.20473932],\n",
       "       [ 0.9091668 , -0.08233283],\n",
       "       [ 0.43234248, -0.06810988],\n",
       "       [ 2.11662518,  0.33396316],\n",
       "       [-1.02676278,  0.51735436],\n",
       "       [ 0.21704345,  0.95595829],\n",
       "       [ 1.47907502, -0.33297033],\n",
       "       [ 0.02365216,  0.96645881],\n",
       "       [-0.03790837,  0.42550326],\n",
       "       [ 0.725228  , -0.43617213],\n",
       "       [-0.84096071,  0.57695291],\n",
       "       [ 0.85534086, -0.49216503],\n",
       "       [-0.90925911,  0.28343978],\n",
       "       [ 0.93841234,  0.18185957],\n",
       "       [ 1.29035038, -0.47243988],\n",
       "       [-0.03822239,  0.26847026],\n",
       "       [ 0.11310249,  0.36083407],\n",
       "       [ 0.31318989, -0.25497995],\n",
       "       [ 0.0413041 ,  0.07551071],\n",
       "       [ 2.0291338 ,  0.42829401],\n",
       "       [ 0.73425752,  0.21871745],\n",
       "       [ 0.89246505,  0.13588632],\n",
       "       [-0.34260554,  0.95188789],\n",
       "       [ 0.89849749, -0.50918242],\n",
       "       [-1.03990292,  0.44087448],\n",
       "       [-0.92135795,  0.24826518],\n",
       "       [-0.16690934,  1.11325101],\n",
       "       [-0.77248822,  0.84942673],\n",
       "       [ 1.0291023 , -0.48198534],\n",
       "       [ 0.43252982, -0.23183661],\n",
       "       [ 0.87558826,  0.11259694],\n",
       "       [-1.1296607 ,  0.37981778],\n",
       "       [ 1.04333372,  0.0896886 ],\n",
       "       [ 1.25093394, -0.425231  ],\n",
       "       [ 0.08181461,  0.9952713 ],\n",
       "       [ 0.75206666,  0.5683903 ],\n",
       "       [ 1.31668888, -0.60191526],\n",
       "       [ 1.39005687, -0.33260728],\n",
       "       [ 0.8918835 ,  0.31352775],\n",
       "       [-0.04182956,  0.24317207],\n",
       "       [ 2.07022536,  0.158182  ],\n",
       "       [-0.93963304,  0.26915576],\n",
       "       [ 1.04471518,  0.1471561 ],\n",
       "       [ 0.0471348 ,  0.09650391],\n",
       "       [-0.16301625,  1.13243468],\n",
       "       [-1.04105857,  0.14567414],\n",
       "       [ 0.10507275, -0.12846218],\n",
       "       [ 0.73999013,  0.51790551],\n",
       "       [ 1.01029925, -0.60832526],\n",
       "       [ 1.60065792, -0.34154105],\n",
       "       [ 1.45941341, -0.27099992],\n",
       "       [ 1.84961538,  0.06650548],\n",
       "       [ 0.78228446,  0.54621309],\n",
       "       [-0.61345369,  0.85162039],\n",
       "       [ 1.6695078 , -0.23972564],\n",
       "       [-0.01757049,  0.16059179],\n",
       "       [-0.84697468,  0.37810546],\n",
       "       [ 1.47900585, -0.49200498],\n",
       "       [ 0.50053258,  0.80931713],\n",
       "       [ 1.6000708 , -0.39608468],\n",
       "       [ 0.11993956,  0.39946034],\n",
       "       [ 0.63473573, -0.55504171],\n",
       "       [ 0.47225596,  0.80526141],\n",
       "       [ 1.54081348, -0.30524553],\n",
       "       [ 0.25864806, -0.00765394],\n",
       "       [ 0.61474429,  0.83149562],\n",
       "       [ 0.27158435, -0.05495865],\n",
       "       [-0.33783343,  0.75482389],\n",
       "       [ 0.24855745,  0.95087026],\n",
       "       [ 0.64355132,  0.6230587 ],\n",
       "       [ 0.90597413,  0.48169975],\n",
       "       [ 1.91648318, -0.01290597],\n",
       "       [ 2.03722876,  0.63079279],\n",
       "       [ 1.70709713, -0.21845884],\n",
       "       [-0.2577285 ,  1.13219304],\n",
       "       [-0.39387519,  0.85589683],\n",
       "       [-0.16723943,  0.97425961],\n",
       "       [-0.2704513 ,  0.92120042],\n",
       "       [-1.07913376,  0.03572056],\n",
       "       [ 0.20560401, -0.14034276],\n",
       "       [ 0.38304233, -0.25031935],\n",
       "       [ 0.89839837,  0.32751249],\n",
       "       [-0.56556582,  0.89646815],\n",
       "       [ 0.78329476,  0.6787135 ],\n",
       "       [ 0.00275754,  0.59567143],\n",
       "       [ 0.92198425, -0.63648184],\n",
       "       [ 1.45278298, -0.3957209 ],\n",
       "       [ 0.48647009, -0.21056142],\n",
       "       [ 0.63780217, -0.47516227],\n",
       "       [-0.88073324,  0.15846144],\n",
       "       [ 1.23350674, -0.50909668],\n",
       "       [-0.09426047,  0.30338403],\n",
       "       [ 1.41714684, -0.47419633],\n",
       "       [-0.75060008,  0.69224959],\n",
       "       [-0.58116394,  0.81630169],\n",
       "       [-0.82352683,  0.71498005]])"
      ]
     },
     "execution_count": 30,
     "metadata": {},
     "output_type": "execute_result"
    }
   ],
   "source": [
    "x"
   ]
  },
  {
   "cell_type": "code",
   "execution_count": 31,
   "id": "626edb48-8160-4d48-a69e-0ba1a6cdba4e",
   "metadata": {},
   "outputs": [
    {
     "data": {
      "text/plain": [
       "array([1, 1, 0, 1, 0, 1, 1, 1, 0, 1, 1, 0, 1, 0, 1, 0, 0, 1, 0, 1, 0, 1,\n",
       "       1, 1, 0, 0, 1, 1, 1, 1, 0, 1, 1, 0, 0, 0, 0, 0, 1, 0, 1, 0, 0, 1,\n",
       "       1, 1, 1, 1, 1, 1, 1, 0, 1, 0, 1, 0, 0, 0, 0, 0, 1, 1, 0, 1, 1, 0,\n",
       "       1, 1, 1, 0, 0, 0, 1, 0, 0, 1, 1, 1, 0, 1, 0, 1, 0, 0, 0, 0, 1, 1,\n",
       "       1, 0, 1, 1, 1, 1, 0, 0, 1, 1, 1, 0, 1, 0, 1, 0, 1, 1, 1, 0, 0, 0,\n",
       "       0, 0, 1, 0, 1, 0, 0, 0, 0, 0, 1, 0, 1, 0, 0, 0, 1, 1, 1, 0, 0, 1,\n",
       "       1, 1, 0, 0, 0, 0, 0, 1, 0, 1, 1, 1, 0, 0, 0, 0, 0, 0, 1, 0, 0, 1,\n",
       "       0, 0, 1, 1, 0, 0, 1, 0, 1, 1, 0, 1, 0, 0, 1, 1, 1, 1, 1, 1, 0, 0,\n",
       "       0, 1, 0, 0, 0, 0, 1, 1, 0, 0, 0, 1, 0, 0, 1, 1, 0, 1, 1, 0, 0, 1,\n",
       "       0, 0, 1, 0, 1, 1, 1, 1, 0, 0, 1, 1, 0, 1, 0, 1, 1, 1, 0, 1, 1, 0,\n",
       "       1, 0, 0, 0, 0, 1, 1, 1, 0, 0, 0, 0, 0, 1, 1, 0, 0, 0, 1, 1, 1, 1,\n",
       "       1, 0, 1, 1, 1, 0, 0, 0])"
      ]
     },
     "execution_count": 31,
     "metadata": {},
     "output_type": "execute_result"
    }
   ],
   "source": [
    "y"
   ]
  },
  {
   "cell_type": "code",
   "execution_count": 32,
   "id": "cc91597b-34cb-47b1-96f2-c47da4d28644",
   "metadata": {},
   "outputs": [
    {
     "data": {
      "text/plain": [
       "<matplotlib.collections.PathCollection at 0x7f26131870d0>"
      ]
     },
     "execution_count": 32,
     "metadata": {},
     "output_type": "execute_result"
    },
    {
     "data": {
      "image/png": "[encoded data removed]",
      "text/plain": [
       "<Figure size 640x480 with 1 Axes>"
      ]
     },
     "metadata": {},
     "output_type": "display_data"
    }
   ],
   "source": [
    "plt.scatter(x[:,0],x[:,1],c = y)"
   ]
  },
  {
   "cell_type": "code",
   "execution_count": 33,
   "id": "19474584-92df-4f6b-8e74-f4f5db9a856a",
   "metadata": {},
   "outputs": [],
   "source": [
    "# Standardization\n",
    "from sklearn.preprocessing import StandardScaler"
   ]
  },
  {
   "cell_type": "code",
   "execution_count": 34,
   "id": "282ad992-ecdf-49ea-9324-b9d7d428d85e",
   "metadata": {},
   "outputs": [],
   "source": [
    "scaler = StandardScaler()"
   ]
  },
  {
   "cell_type": "code",
   "execution_count": 35,
   "id": "a836f4fb-979a-423e-90f0-7b7093596946",
   "metadata": {},
   "outputs": [
    {
     "data": {
      "text/html": [
       "<style>#sk-container-id-4 {color: black;background-color: white;}#sk-container-id-4 pre{padding: 0;}#sk-container-id-4 div.sk-toggleable {background-color: white;}#sk-container-id-4 label.sk-toggleable__label {cursor: pointer;display: block;width: 100%;margin-bottom: 0;padding: 0.3em;box-sizing: border-box;text-align: center;}#sk-container-id-4 label.sk-toggleable__label-arrow:before {content: \"▸\";float: left;margin-right: 0.25em;color: #696969;}#sk-container-id-4 label.sk-toggleable__label-arrow:hover:before {color: black;}#sk-container-id-4 div.sk-estimator:hover label.sk-toggleable__label-arrow:before {color: black;}#sk-container-id-4 div.sk-toggleable__content {max-height: 0;max-width: 0;overflow: hidden;text-align: left;background-color: #f0f8ff;}#sk-container-id-4 div.sk-toggleable__content pre {margin: 0.2em;color: black;border-radius: 0.25em;background-color: #f0f8ff;}#sk-container-id-4 input.sk-toggleable__control:checked~div.sk-toggleable__content {max-height: 200px;max-width: 100%;overflow: auto;}#sk-container-id-4 input.sk-toggleable__control:checked~label.sk-toggleable__label-arrow:before {content: \"▾\";}#sk-container-id-4 div.sk-estimator input.sk-toggleable__control:checked~label.sk-toggleable__label {background-color: #d4ebff;}#sk-container-id-4 div.sk-label input.sk-toggleable__control:checked~label.sk-toggleable__label {background-color: #d4ebff;}#sk-container-id-4 input.sk-hidden--visually {border: 0;clip: rect(1px 1px 1px 1px);clip: rect(1px, 1px, 1px, 1px);height: 1px;margin: -1px;overflow: hidden;padding: 0;position: absolute;width: 1px;}#sk-container-id-4 div.sk-estimator {font-family: monospace;background-color: #f0f8ff;border: 1px dotted black;border-radius: 0.25em;box-sizing: border-box;margin-bottom: 0.5em;}#sk-container-id-4 div.sk-estimator:hover {background-color: #d4ebff;}#sk-container-id-4 div.sk-parallel-item::after {content: \"\";width: 100%;border-bottom: 1px solid gray;flex-grow: 1;}#sk-container-id-4 div.sk-label:hover label.sk-toggleable__label {background-color: #d4ebff;}#sk-container-id-4 div.sk-serial::before {content: \"\";position: absolute;border-left: 1px solid gray;box-sizing: border-box;top: 0;bottom: 0;left: 50%;z-index: 0;}#sk-container-id-4 div.sk-serial {display: flex;flex-direction: column;align-items: center;background-color: white;padding-right: 0.2em;padding-left: 0.2em;position: relative;}#sk-container-id-4 div.sk-item {position: relative;z-index: 1;}#sk-container-id-4 div.sk-parallel {display: flex;align-items: stretch;justify-content: center;background-color: white;position: relative;}#sk-container-id-4 div.sk-item::before, #sk-container-id-4 div.sk-parallel-item::before {content: \"\";position: absolute;border-left: 1px solid gray;box-sizing: border-box;top: 0;bottom: 0;left: 50%;z-index: -1;}#sk-container-id-4 div.sk-parallel-item {display: flex;flex-direction: column;z-index: 1;position: relative;background-color: white;}#sk-container-id-4 div.sk-parallel-item:first-child::after {align-self: flex-end;width: 50%;}#sk-container-id-4 div.sk-parallel-item:last-child::after {align-self: flex-start;width: 50%;}#sk-container-id-4 div.sk-parallel-item:only-child::after {width: 0;}#sk-container-id-4 div.sk-dashed-wrapped {border: 1px dashed gray;margin: 0 0.4em 0.5em 0.4em;box-sizing: border-box;padding-bottom: 0.4em;background-color: white;}#sk-container-id-4 div.sk-label label {font-family: monospace;font-weight: bold;display: inline-block;line-height: 1.2em;}#sk-container-id-4 div.sk-label-container {text-align: center;}#sk-container-id-4 div.sk-container {/* jupyter's `normalize.less` sets `[hidden] { display: none; }` but bootstrap.min.css set `[hidden] { display: none !important; }` so we also need the `!important` here to be able to override the default hidden behavior on the sphinx rendered scikit-learn.org. See: https://github.com/scikit-learn/scikit-learn/issues/21755 */display: inline-block !important;position: relative;}#sk-container-id-4 div.sk-text-repr-fallback {display: none;}</style><div id=\"sk-container-id-4\" class=\"sk-top-container\"><div class=\"sk-text-repr-fallback\"><pre>StandardScaler()</pre><b>In a Jupyter environment, please rerun this cell to show the HTML representation or trust the notebook. <br />On GitHub, the HTML representation is unable to render, please try loading this page with nbviewer.org.</b></div><div class=\"sk-container\" hidden><div class=\"sk-item\"><div class=\"sk-estimator sk-toggleable\"><input class=\"sk-toggleable__control sk-hidden--visually\" id=\"sk-estimator-id-4\" type=\"checkbox\" checked><label for=\"sk-estimator-id-4\" class=\"sk-toggleable__label sk-toggleable__label-arrow\">StandardScaler</label><div class=\"sk-toggleable__content\"><pre>StandardScaler()</pre></div></div></div></div></div>"
      ],
      "text/plain": [
       "StandardScaler()"
      ]
     },
     "execution_count": 35,
     "metadata": {},
     "output_type": "execute_result"
    }
   ],
   "source": [
    "scaler"
   ]
  },
  {
   "cell_type": "code",
   "execution_count": 36,
   "id": "7169ff41-3614-49fe-b254-cf0fc02f4539",
   "metadata": {},
   "outputs": [],
   "source": [
    "from sklearn.cluster import DBSCAN"
   ]
  },
  {
   "cell_type": "code",
   "execution_count": 37,
   "id": "8d348212-d726-4c5b-8b93-3230a3f6658d",
   "metadata": {},
   "outputs": [],
   "source": [
    "x_scaled = scaler.fit_transform(x)"
   ]
  },
  {
   "cell_type": "code",
   "execution_count": 38,
   "id": "67685348-e177-4f16-b450-8d65a5ed4aef",
   "metadata": {},
   "outputs": [
    {
     "data": {
      "text/plain": [
       "array([[-4.92531477e-01, -5.70927907e-02],\n",
       "       [ 9.25584136e-01, -1.35035879e+00],\n",
       "       [-7.58420573e-01,  1.56943947e+00],\n",
       "       [-6.25279085e-01,  1.41341087e-01],\n",
       "       [-1.50162304e+00,  4.87609665e-01],\n",
       "       [ 7.90172242e-01, -1.39762921e+00],\n",
       "       [ 5.75828742e-01, -1.35232034e+00],\n",
       "       [ 4.94828745e-01, -9.52418756e-01],\n",
       "       [-7.58590404e-01,  1.96686058e+00],\n",
       "       [ 1.28161883e+00, -8.47136679e-01],\n",
       "       [ 5.11328240e-01, -1.64248328e+00],\n",
       "       [ 6.48184617e-01, -1.87896504e-01],\n",
       "       [ 1.84104382e+00, -2.33062937e-01],\n",
       "       [ 4.67147617e-01, -1.39020987e-02],\n",
       "       [-2.96091345e-01, -7.48521080e-01],\n",
       "       [-1.76448070e+00, -5.65214822e-01],\n",
       "       [-1.10823732e+00,  1.26714472e+00],\n",
       "       [ 1.08464774e+00, -1.33271663e+00],\n",
       "       [-1.50349589e+00, -4.45579147e-02],\n",
       "       [-4.53363084e-01,  3.23975830e-01],\n",
       "       [-1.85681278e+00, -2.17352218e-01],\n",
       "       [ 1.60006077e+00, -3.86533416e-01],\n",
       "       [-3.01728110e-01, -1.14340488e+00],\n",
       "       [-5.28456278e-01, -3.46519342e-01],\n",
       "       [-1.14582070e-01,  1.09474326e+00],\n",
       "       [-2.98017236e-01,  1.39093274e+00],\n",
       "       [ 1.36504558e+00, -9.61534609e-01],\n",
       "       [ 1.76114035e+00,  6.51199861e-01],\n",
       "       [ 1.85879410e+00,  2.17834755e-01],\n",
       "       [-1.83857696e-01, -1.00325885e+00],\n",
       "       [ 1.32107948e-01,  8.20544600e-01],\n",
       "       [ 7.88421209e-01, -1.03261190e+00],\n",
       "       [ 1.70644754e+00, -3.80735681e-01],\n",
       "       [-9.45578620e-01,  1.29986572e+00],\n",
       "       [-2.12441673e-03,  1.11803772e+00],\n",
       "       [-2.47505000e-02,  1.67606552e+00],\n",
       "       [-1.22632725e+00,  1.39353641e+00],\n",
       "       [ 1.07007237e-01,  1.10948940e+00],\n",
       "       [ 1.78364624e+00, -1.60005336e-01],\n",
       "       [ 3.53012879e-01,  2.54178960e-01],\n",
       "       [ 1.39197488e+00, -8.31237128e-01],\n",
       "       [ 3.48762308e-02,  1.18930568e+00],\n",
       "       [-1.39447792e+00,  4.48056247e-01],\n",
       "       [-4.84134700e-01, -5.69218310e-01],\n",
       "       [ 1.04711256e+00, -1.03189506e+00],\n",
       "       [ 7.32172876e-01, -1.39501539e+00],\n",
       "       [ 9.09621451e-01, -1.24379527e+00],\n",
       "       [-5.55462915e-01, -6.30118026e-01],\n",
       "       [ 1.35626802e+00, -4.96182592e-01],\n",
       "       [-2.25831407e-02, -1.08707928e+00],\n",
       "       [ 1.17973960e+00, -7.28350202e-01],\n",
       "       [-8.87692644e-01,  1.63931296e+00],\n",
       "       [ 1.85418805e-01, -1.28450365e+00],\n",
       "       [-1.37715536e+00,  8.16139425e-01],\n",
       "       [ 1.59532917e+00, -2.10405643e-02],\n",
       "       [ 3.77793390e-01,  4.17349159e-01],\n",
       "       [ 6.49948597e-01,  1.52860556e-01],\n",
       "       [-1.58864237e+00,  4.54169287e-01],\n",
       "       [ 4.75116111e-01,  7.81810692e-01],\n",
       "       [-1.62554804e+00,  1.96948402e-01],\n",
       "       [-4.19757004e-01, -1.77933284e-01],\n",
       "       [-5.08712083e-01,  2.52572227e-01],\n",
       "       [-1.53173931e+00, -1.68748071e-02],\n",
       "       [ 6.49666391e-01, -1.26216455e+00],\n",
       "       [ 7.85796361e-02, -1.25036794e+00],\n",
       "       [ 3.16278647e-01, -1.33684167e-01],\n",
       "       [ 1.42104438e+00, -6.40101141e-01],\n",
       "       [ 2.02920230e-01, -1.68675838e+00],\n",
       "       [ 6.91300105e-01, -1.57108545e+00],\n",
       "       [-1.05176727e+00,  1.01196826e+00],\n",
       "       [ 5.59657368e-01,  2.28889140e-01],\n",
       "       [ 2.62347448e-01,  7.26999152e-01],\n",
       "       [ 6.72841188e-01, -1.54037700e+00],\n",
       "       [-4.16592695e-02,  1.23058269e+00],\n",
       "       [-5.05538479e-01,  1.29292070e+00],\n",
       "       [ 7.98318144e-01, -1.00966092e+00],\n",
       "       [ 1.12231066e+00, -8.86380104e-01],\n",
       "       [ 3.44725532e-01, -1.82236562e+00],\n",
       "       [-1.65815939e+00,  2.40971355e-01],\n",
       "       [ 2.60954433e-01, -1.26332870e+00],\n",
       "       [ 4.33852273e-01,  2.95954388e-01],\n",
       "       [-3.06517502e-02, -1.07384909e+00],\n",
       "       [-5.38771450e-01,  1.63766928e+00],\n",
       "       [-1.14597274e+00,  1.25518493e+00],\n",
       "       [ 6.10650289e-01,  2.96037923e-01],\n",
       "       [-8.00679798e-01,  1.45207056e+00],\n",
       "       [ 1.49020663e+00, -5.54966193e-01],\n",
       "       [ 1.34685110e+00, -6.16576206e-01],\n",
       "       [ 1.17059577e+00, -7.43566263e-01],\n",
       "       [-6.23021093e-01,  1.49461827e+00],\n",
       "       [ 1.84857937e+00, -3.20180694e-02],\n",
       "       [ 2.87445184e-01, -1.64273593e+00],\n",
       "       [ 1.70834288e+00, -6.37605560e-01],\n",
       "       [ 3.59461219e-02, -1.52414489e+00],\n",
       "       [-8.29277845e-01,  1.35254433e+00],\n",
       "       [-1.69779156e+00, -1.83212358e-01],\n",
       "       [-1.35760584e-01, -9.88150978e-01],\n",
       "       [-2.74606357e-01, -1.81100133e-01],\n",
       "       [ 1.10107295e+00, -1.09640223e+00],\n",
       "       [-1.31616212e+00,  9.82748354e-01],\n",
       "       [ 1.91850430e-01, -1.62197184e+00],\n",
       "       [-3.40604591e-01,  1.36985654e+00],\n",
       "       [ 1.79307151e+00,  2.56942354e-01],\n",
       "       [ 2.67279449e-01,  5.96488509e-01],\n",
       "       [ 1.73514766e+00, -2.53662872e-01],\n",
       "       [-4.38363767e-01,  3.37637086e-01],\n",
       "       [ 1.55866918e+00,  7.11021546e-01],\n",
       "       [-3.41795921e-01,  1.15422704e+00],\n",
       "       [ 3.81213282e-01,  6.47657364e-01],\n",
       "       [ 6.00200962e-01, -7.41770701e-01],\n",
       "       [ 5.29657451e-02,  1.32501597e+00],\n",
       "       [ 3.86860451e-01,  5.60496615e-01],\n",
       "       [ 3.86263751e-01, -1.57810872e+00],\n",
       "       [-1.26866511e+00,  1.06231036e+00],\n",
       "       [-3.62804436e-01, -3.92052425e-01],\n",
       "       [ 1.27152624e-01,  1.30474042e+00],\n",
       "       [-1.14086550e+00,  1.26203055e+00],\n",
       "       [-9.36118001e-01,  1.41679961e+00],\n",
       "       [-9.82468180e-01,  8.54282059e-01],\n",
       "       [ 1.66073512e-01,  1.04179518e+00],\n",
       "       [ 1.80538451e+00,  3.11050271e-01],\n",
       "       [-9.89709211e-01,  1.19443453e+00],\n",
       "       [-1.92653706e-01, -9.14197642e-01],\n",
       "       [-1.85200094e+00, -1.58080484e-01],\n",
       "       [-1.68803862e+00, -8.84499876e-02],\n",
       "       [-1.22177964e+00,  8.16486128e-01],\n",
       "       [ 1.01179745e+00, -1.43963735e+00],\n",
       "       [ 2.48855099e-01, -1.58279127e+00],\n",
       "       [ 1.62974471e+00, -2.84994866e-01],\n",
       "       [-1.10795957e+00,  9.07386138e-01],\n",
       "       [-1.05653043e+00,  1.30277424e+00],\n",
       "       [ 1.73232546e+00, -2.86245878e-02],\n",
       "       [ 1.58674599e+00, -6.09967386e-01],\n",
       "       [-2.63201242e-01, -2.47280272e-01],\n",
       "       [-1.23563231e+00,  7.11351232e-01],\n",
       "       [-1.00549974e-01,  1.41426669e+00],\n",
       "       [ 3.19238586e-01,  6.54291232e-01],\n",
       "       [-2.39589509e-01,  1.76824149e+00],\n",
       "       [-7.53941696e-01,  1.50382805e+00],\n",
       "       [ 3.15677589e-02, -1.59317024e+00],\n",
       "       [-3.29726396e-01,  1.84145030e+00],\n",
       "       [-1.44914251e-01, -1.11943967e+00],\n",
       "       [-3.11460667e-01, -1.02486618e+00],\n",
       "       [ 1.58523879e+00,  4.76381089e-01],\n",
       "       [-7.05514248e-02,  1.26674299e+00],\n",
       "       [-1.55195841e+00,  2.57138041e-01],\n",
       "       [-3.01844112e-01,  1.29851300e+00],\n",
       "       [-1.48000651e+00,  5.19287631e-01],\n",
       "       [-1.65757597e+00,  7.32236837e-01],\n",
       "       [ 3.48256061e-01,  1.33951690e+00],\n",
       "       [-3.90767383e-01, -8.54501352e-01],\n",
       "       [-2.35719857e-01,  1.67948474e+00],\n",
       "       [ 4.39695762e-01, -4.72116429e-01],\n",
       "       [ 1.30307638e+00, -1.28205385e+00],\n",
       "       [-1.87348826e+00, -8.32705815e-02],\n",
       "       [ 4.68655195e-01, -6.47841172e-01],\n",
       "       [-7.59924627e-02, -6.19869599e-01],\n",
       "       [ 1.84786208e+00,  1.70867553e-01],\n",
       "       [-1.74264039e+00,  5.31533951e-01],\n",
       "       [-3.21915553e-01,  1.39411459e+00],\n",
       "       [ 1.11962698e+00, -1.14075753e+00],\n",
       "       [-5.42814760e-01,  1.41476543e+00],\n",
       "       [-6.13131643e-01,  3.50894938e-01],\n",
       "       [ 2.58553002e-01, -1.34371939e+00],\n",
       "       [-1.53040989e+00,  6.48743469e-01],\n",
       "       [ 4.07173081e-01, -1.45383787e+00],\n",
       "       [-1.60842303e+00,  7.15057118e-02],\n",
       "       [ 5.02060615e-01, -1.28267048e-01],\n",
       "       [ 9.04058216e-01, -1.41504538e+00],\n",
       "       [-6.13490329e-01,  4.20659140e-02],\n",
       "       [-4.40641042e-01,  2.23713239e-01],\n",
       "       [-2.12093280e-01, -9.87377710e-01],\n",
       "       [-5.22652019e-01, -3.37418083e-01],\n",
       "       [ 1.74792595e+00,  3.56383361e-01],\n",
       "       [ 2.68866883e-01, -5.57804812e-02],\n",
       "       [ 4.49577795e-01, -2.18680365e-01],\n",
       "       [-9.61168836e-01,  1.38610953e+00],\n",
       "       [ 4.56468292e-01, -1.48730511e+00],\n",
       "       [-1.75764958e+00,  3.81124753e-01],\n",
       "       [-1.62224281e+00,  2.32958496e-03],\n",
       "       [-7.60481673e-01,  1.70345439e+00],\n",
       "       [-1.45219790e+00,  1.18460424e+00],\n",
       "       [ 6.05650286e-01, -1.43381798e+00],\n",
       "       [-7.57784711e-02, -9.41862838e-01],\n",
       "       [ 4.30300458e-01, -2.64482435e-01],\n",
       "       [-1.86017448e+00,  2.61047560e-01],\n",
       "       [ 6.21905978e-01, -3.09535127e-01],\n",
       "       [ 8.59035192e-01, -1.32220202e+00],\n",
       "       [-4.76379304e-01,  1.47142953e+00],\n",
       "       [ 2.89209184e-01,  6.31903797e-01],\n",
       "       [ 9.34143095e-01, -1.66967820e+00],\n",
       "       [ 1.01794692e+00, -1.14004354e+00],\n",
       "       [ 4.48913532e-01,  1.30678248e-01],\n",
       "       [-6.17610584e-01, -7.68679102e-03],\n",
       "       [ 1.79486236e+00, -1.74832550e-01],\n",
       "       [-1.64311734e+00,  4.34140472e-02],\n",
       "       [ 6.23483941e-01, -1.96516639e-01],\n",
       "       [-5.15991958e-01, -2.96131797e-01],\n",
       "       [-7.56034821e-01,  1.74118196e+00],\n",
       "       [-1.75896960e+00, -1.99431151e-01],\n",
       "       [-4.49812935e-01, -7.38561470e-01],\n",
       "       [ 2.75414894e-01,  5.32617864e-01],\n",
       "       [ 5.84172695e-01, -1.68228444e+00],\n",
       "       [ 1.25850380e+00, -1.15761314e+00],\n",
       "       [ 1.09716871e+00, -1.01888339e+00],\n",
       "       [ 1.54287288e+00, -3.55128229e-01],\n",
       "       [ 3.23725153e-01,  5.88288973e-01],\n",
       "       [-1.27054234e+00,  1.18891841e+00],\n",
       "       [ 1.33714687e+00, -9.57377810e-01],\n",
       "       [-5.89900913e-01, -1.70093342e-01],\n",
       "       [-1.53727929e+00,  2.57680017e-01],\n",
       "       [ 1.11954797e+00, -1.45352310e+00],\n",
       "       [ 1.89698253e-03,  1.10572266e+00],\n",
       "       [ 1.25783316e+00, -1.26488140e+00],\n",
       "       [-4.32831471e-01,  2.99677617e-01],\n",
       "       [ 1.55189137e-01, -1.57749431e+00],\n",
       "       [-3.04017020e-02,  1.09774649e+00],\n",
       "       [ 1.19014711e+00, -1.08623253e+00],\n",
       "       [-2.74393116e-01, -5.00973881e-01],\n",
       "       [ 1.32354123e-01,  1.14934001e+00],\n",
       "       [-2.59616778e-01, -5.94005726e-01],\n",
       "       [-9.55717947e-01,  9.98553522e-01],\n",
       "       [-2.85919013e-01,  1.38410820e+00],\n",
       "       [ 1.65258653e-01,  7.39417428e-01],\n",
       "       [ 4.65008402e-01,  4.61413797e-01],\n",
       "       [ 1.61925194e+00, -5.11302801e-01],\n",
       "       [ 1.75717234e+00,  7.54627691e-01],\n",
       "       [ 1.38008289e+00, -9.15553445e-01],\n",
       "       [-8.64218917e-01,  1.74070674e+00],\n",
       "       [-1.01973107e+00,  1.19732865e+00],\n",
       "       [-7.60858712e-01,  1.43010689e+00],\n",
       "       [-8.78751406e-01,  1.32575801e+00],\n",
       "       [-1.80246060e+00, -4.15671405e-01],\n",
       "       [-3.34982143e-01, -7.61926429e-01],\n",
       "       [-1.32305044e-01, -9.78211937e-01],\n",
       "       [ 4.56355076e-01,  1.58181345e-01],\n",
       "       [-1.21584292e+00,  1.27711827e+00],\n",
       "       [ 3.24879166e-01,  8.48870984e-01],\n",
       "       [-5.66681422e-01,  6.85556241e-01],\n",
       "       [ 4.83295804e-01, -1.73765860e+00],\n",
       "       [ 1.08959517e+00, -1.26416597e+00],\n",
       "       [-1.41657607e-02, -9.00021985e-01],\n",
       "       [ 1.58691747e-01, -1.42039938e+00],\n",
       "       [-1.57583965e+00, -1.74282985e-01],\n",
       "       [ 8.39129148e-01, -1.48713649e+00],\n",
       "       [-6.77499244e-01,  1.10729083e-01],\n",
       "       [ 1.04889016e+00, -1.41849970e+00],\n",
       "       [-1.42719640e+00,  8.75491740e-01],\n",
       "       [-1.23365971e+00,  1.11945885e+00],\n",
       "       [-1.51049622e+00,  9.20194606e-01]])"
      ]
     },
     "execution_count": 38,
     "metadata": {},
     "output_type": "execute_result"
    }
   ],
   "source": [
    "x_scaled"
   ]
  },
  {
   "cell_type": "code",
   "execution_count": 39,
   "id": "0de83478-70dd-4991-8f84-ab3828548a3e",
   "metadata": {},
   "outputs": [],
   "source": [
    "dbscan = DBSCAN(eps = 0.3)"
   ]
  },
  {
   "cell_type": "code",
   "execution_count": 40,
   "id": "9d9fce70-0b3a-44d3-8b60-5b0b23b98d70",
   "metadata": {},
   "outputs": [
    {
     "data": {
      "text/html": [
       "<style>#sk-container-id-5 {color: black;background-color: white;}#sk-container-id-5 pre{padding: 0;}#sk-container-id-5 div.sk-toggleable {background-color: white;}#sk-container-id-5 label.sk-toggleable__label {cursor: pointer;display: block;width: 100%;margin-bottom: 0;padding: 0.3em;box-sizing: border-box;text-align: center;}#sk-container-id-5 label.sk-toggleable__label-arrow:before {content: \"▸\";float: left;margin-right: 0.25em;color: #696969;}#sk-container-id-5 label.sk-toggleable__label-arrow:hover:before {color: black;}#sk-container-id-5 div.sk-estimator:hover label.sk-toggleable__label-arrow:before {color: black;}#sk-container-id-5 div.sk-toggleable__content {max-height: 0;max-width: 0;overflow: hidden;text-align: left;background-color: #f0f8ff;}#sk-container-id-5 div.sk-toggleable__content pre {margin: 0.2em;color: black;border-radius: 0.25em;background-color: #f0f8ff;}#sk-container-id-5 input.sk-toggleable__control:checked~div.sk-toggleable__content {max-height: 200px;max-width: 100%;overflow: auto;}#sk-container-id-5 input.sk-toggleable__control:checked~label.sk-toggleable__label-arrow:before {content: \"▾\";}#sk-container-id-5 div.sk-estimator input.sk-toggleable__control:checked~label.sk-toggleable__label {background-color: #d4ebff;}#sk-container-id-5 div.sk-label input.sk-toggleable__control:checked~label.sk-toggleable__label {background-color: #d4ebff;}#sk-container-id-5 input.sk-hidden--visually {border: 0;clip: rect(1px 1px 1px 1px);clip: rect(1px, 1px, 1px, 1px);height: 1px;margin: -1px;overflow: hidden;padding: 0;position: absolute;width: 1px;}#sk-container-id-5 div.sk-estimator {font-family: monospace;background-color: #f0f8ff;border: 1px dotted black;border-radius: 0.25em;box-sizing: border-box;margin-bottom: 0.5em;}#sk-container-id-5 div.sk-estimator:hover {background-color: #d4ebff;}#sk-container-id-5 div.sk-parallel-item::after {content: \"\";width: 100%;border-bottom: 1px solid gray;flex-grow: 1;}#sk-container-id-5 div.sk-label:hover label.sk-toggleable__label {background-color: #d4ebff;}#sk-container-id-5 div.sk-serial::before {content: \"\";position: absolute;border-left: 1px solid gray;box-sizing: border-box;top: 0;bottom: 0;left: 50%;z-index: 0;}#sk-container-id-5 div.sk-serial {display: flex;flex-direction: column;align-items: center;background-color: white;padding-right: 0.2em;padding-left: 0.2em;position: relative;}#sk-container-id-5 div.sk-item {position: relative;z-index: 1;}#sk-container-id-5 div.sk-parallel {display: flex;align-items: stretch;justify-content: center;background-color: white;position: relative;}#sk-container-id-5 div.sk-item::before, #sk-container-id-5 div.sk-parallel-item::before {content: \"\";position: absolute;border-left: 1px solid gray;box-sizing: border-box;top: 0;bottom: 0;left: 50%;z-index: -1;}#sk-container-id-5 div.sk-parallel-item {display: flex;flex-direction: column;z-index: 1;position: relative;background-color: white;}#sk-container-id-5 div.sk-parallel-item:first-child::after {align-self: flex-end;width: 50%;}#sk-container-id-5 div.sk-parallel-item:last-child::after {align-self: flex-start;width: 50%;}#sk-container-id-5 div.sk-parallel-item:only-child::after {width: 0;}#sk-container-id-5 div.sk-dashed-wrapped {border: 1px dashed gray;margin: 0 0.4em 0.5em 0.4em;box-sizing: border-box;padding-bottom: 0.4em;background-color: white;}#sk-container-id-5 div.sk-label label {font-family: monospace;font-weight: bold;display: inline-block;line-height: 1.2em;}#sk-container-id-5 div.sk-label-container {text-align: center;}#sk-container-id-5 div.sk-container {/* jupyter's `normalize.less` sets `[hidden] { display: none; }` but bootstrap.min.css set `[hidden] { display: none !important; }` so we also need the `!important` here to be able to override the default hidden behavior on the sphinx rendered scikit-learn.org. See: https://github.com/scikit-learn/scikit-learn/issues/21755 */display: inline-block !important;position: relative;}#sk-container-id-5 div.sk-text-repr-fallback {display: none;}</style><div id=\"sk-container-id-5\" class=\"sk-top-container\"><div class=\"sk-text-repr-fallback\"><pre>DBSCAN(eps=0.3)</pre><b>In a Jupyter environment, please rerun this cell to show the HTML representation or trust the notebook. <br />On GitHub, the HTML representation is unable to render, please try loading this page with nbviewer.org.</b></div><div class=\"sk-container\" hidden><div class=\"sk-item\"><div class=\"sk-estimator sk-toggleable\"><input class=\"sk-toggleable__control sk-hidden--visually\" id=\"sk-estimator-id-5\" type=\"checkbox\" checked><label for=\"sk-estimator-id-5\" class=\"sk-toggleable__label sk-toggleable__label-arrow\">DBSCAN</label><div class=\"sk-toggleable__content\"><pre>DBSCAN(eps=0.3)</pre></div></div></div></div></div>"
      ],
      "text/plain": [
       "DBSCAN(eps=0.3)"
      ]
     },
     "execution_count": 40,
     "metadata": {},
     "output_type": "execute_result"
    }
   ],
   "source": [
    "dbscan"
   ]
  },
  {
   "cell_type": "code",
   "execution_count": 41,
   "id": "0fc0c3a9-ddf8-4810-a35a-7ad2f5b166a3",
   "metadata": {},
   "outputs": [
    {
     "data": {
      "text/html": [
       "<style>#sk-container-id-6 {color: black;background-color: white;}#sk-container-id-6 pre{padding: 0;}#sk-container-id-6 div.sk-toggleable {background-color: white;}#sk-container-id-6 label.sk-toggleable__label {cursor: pointer;display: block;width: 100%;margin-bottom: 0;padding: 0.3em;box-sizing: border-box;text-align: center;}#sk-container-id-6 label.sk-toggleable__label-arrow:before {content: \"▸\";float: left;margin-right: 0.25em;color: #696969;}#sk-container-id-6 label.sk-toggleable__label-arrow:hover:before {color: black;}#sk-container-id-6 div.sk-estimator:hover label.sk-toggleable__label-arrow:before {color: black;}#sk-container-id-6 div.sk-toggleable__content {max-height: 0;max-width: 0;overflow: hidden;text-align: left;background-color: #f0f8ff;}#sk-container-id-6 div.sk-toggleable__content pre {margin: 0.2em;color: black;border-radius: 0.25em;background-color: #f0f8ff;}#sk-container-id-6 input.sk-toggleable__control:checked~div.sk-toggleable__content {max-height: 200px;max-width: 100%;overflow: auto;}#sk-container-id-6 input.sk-toggleable__control:checked~label.sk-toggleable__label-arrow:before {content: \"▾\";}#sk-container-id-6 div.sk-estimator input.sk-toggleable__control:checked~label.sk-toggleable__label {background-color: #d4ebff;}#sk-container-id-6 div.sk-label input.sk-toggleable__control:checked~label.sk-toggleable__label {background-color: #d4ebff;}#sk-container-id-6 input.sk-hidden--visually {border: 0;clip: rect(1px 1px 1px 1px);clip: rect(1px, 1px, 1px, 1px);height: 1px;margin: -1px;overflow: hidden;padding: 0;position: absolute;width: 1px;}#sk-container-id-6 div.sk-estimator {font-family: monospace;background-color: #f0f8ff;border: 1px dotted black;border-radius: 0.25em;box-sizing: border-box;margin-bottom: 0.5em;}#sk-container-id-6 div.sk-estimator:hover {background-color: #d4ebff;}#sk-container-id-6 div.sk-parallel-item::after {content: \"\";width: 100%;border-bottom: 1px solid gray;flex-grow: 1;}#sk-container-id-6 div.sk-label:hover label.sk-toggleable__label {background-color: #d4ebff;}#sk-container-id-6 div.sk-serial::before {content: \"\";position: absolute;border-left: 1px solid gray;box-sizing: border-box;top: 0;bottom: 0;left: 50%;z-index: 0;}#sk-container-id-6 div.sk-serial {display: flex;flex-direction: column;align-items: center;background-color: white;padding-right: 0.2em;padding-left: 0.2em;position: relative;}#sk-container-id-6 div.sk-item {position: relative;z-index: 1;}#sk-container-id-6 div.sk-parallel {display: flex;align-items: stretch;justify-content: center;background-color: white;position: relative;}#sk-container-id-6 div.sk-item::before, #sk-container-id-6 div.sk-parallel-item::before {content: \"\";position: absolute;border-left: 1px solid gray;box-sizing: border-box;top: 0;bottom: 0;left: 50%;z-index: -1;}#sk-container-id-6 div.sk-parallel-item {display: flex;flex-direction: column;z-index: 1;position: relative;background-color: white;}#sk-container-id-6 div.sk-parallel-item:first-child::after {align-self: flex-end;width: 50%;}#sk-container-id-6 div.sk-parallel-item:last-child::after {align-self: flex-start;width: 50%;}#sk-container-id-6 div.sk-parallel-item:only-child::after {width: 0;}#sk-container-id-6 div.sk-dashed-wrapped {border: 1px dashed gray;margin: 0 0.4em 0.5em 0.4em;box-sizing: border-box;padding-bottom: 0.4em;background-color: white;}#sk-container-id-6 div.sk-label label {font-family: monospace;font-weight: bold;display: inline-block;line-height: 1.2em;}#sk-container-id-6 div.sk-label-container {text-align: center;}#sk-container-id-6 div.sk-container {/* jupyter's `normalize.less` sets `[hidden] { display: none; }` but bootstrap.min.css set `[hidden] { display: none !important; }` so we also need the `!important` here to be able to override the default hidden behavior on the sphinx rendered scikit-learn.org. See: https://github.com/scikit-learn/scikit-learn/issues/21755 */display: inline-block !important;position: relative;}#sk-container-id-6 div.sk-text-repr-fallback {display: none;}</style><div id=\"sk-container-id-6\" class=\"sk-top-container\"><div class=\"sk-text-repr-fallback\"><pre>DBSCAN(eps=0.3)</pre><b>In a Jupyter environment, please rerun this cell to show the HTML representation or trust the notebook. <br />On GitHub, the HTML representation is unable to render, please try loading this page with nbviewer.org.</b></div><div class=\"sk-container\" hidden><div class=\"sk-item\"><div class=\"sk-estimator sk-toggleable\"><input class=\"sk-toggleable__control sk-hidden--visually\" id=\"sk-estimator-id-6\" type=\"checkbox\" checked><label for=\"sk-estimator-id-6\" class=\"sk-toggleable__label sk-toggleable__label-arrow\">DBSCAN</label><div class=\"sk-toggleable__content\"><pre>DBSCAN(eps=0.3)</pre></div></div></div></div></div>"
      ],
      "text/plain": [
       "DBSCAN(eps=0.3)"
      ]
     },
     "execution_count": 41,
     "metadata": {},
     "output_type": "execute_result"
    }
   ],
   "source": [
    "dbscan.fit(x_scaled)"
   ]
  },
  {
   "cell_type": "code",
   "execution_count": 42,
   "id": "6182986a-e48f-4882-8742-683063c64b6a",
   "metadata": {},
   "outputs": [
    {
     "data": {
      "text/plain": [
       "array([ 0,  0,  1,  0,  1,  0,  0, -1,  1,  0,  0,  1,  0,  1,  0,  1,  1,\n",
       "        0,  1,  0,  1,  0,  0,  0,  1,  1,  0,  0,  0,  0,  1,  0,  0,  1,\n",
       "        1,  1,  1,  1,  0,  1,  0,  1,  1,  0,  0,  0,  0,  0,  0,  0,  0,\n",
       "        1,  0,  1,  0,  1,  1,  1,  1,  1,  0,  0,  1,  0,  0,  1,  0,  0,\n",
       "        0,  1,  1,  1,  0,  1,  1,  0,  0,  0,  1,  0,  1,  0,  1,  1,  1,\n",
       "        1,  0,  0,  0,  1,  0,  0,  0,  0,  1,  1,  0,  0,  0,  1,  0,  1,\n",
       "        0,  1,  0,  0,  0,  1,  1, -1,  1,  1,  0,  1,  0,  1,  1,  1,  1,\n",
       "        1,  0,  1,  0,  1,  1,  1,  0,  0,  0,  1,  1,  0,  0,  0,  1,  1,\n",
       "        1,  1,  1,  0,  1,  0,  0,  0,  1,  1,  1,  1,  1,  1,  0,  1,  1,\n",
       "        0,  1,  1,  0,  0,  1,  1,  0,  1,  0,  0,  1,  0,  1,  1,  0,  0,\n",
       "        0,  0,  0,  0,  1,  1,  1,  0,  1,  1,  1,  1,  0,  0,  1,  1,  1,\n",
       "        0,  1,  1,  0,  0,  1,  0,  0,  1,  1,  0,  1,  1,  0,  1,  0,  0,\n",
       "        0,  0,  1,  1,  0,  0,  1,  0,  1,  0,  0,  0,  1,  0,  0,  1,  0,\n",
       "        1,  1,  1,  1,  0,  0,  0,  1,  1,  1,  1,  1,  0,  0,  1,  1,  1,\n",
       "       -1,  0,  0,  0,  0,  1,  0,  0,  0,  1,  1,  1])"
      ]
     },
     "execution_count": 42,
     "metadata": {},
     "output_type": "execute_result"
    }
   ],
   "source": [
    "dbscan.labels_"
   ]
  },
  {
   "cell_type": "code",
   "execution_count": 43,
   "id": "aab8bfe2-5470-4d7c-8d6d-062729623c59",
   "metadata": {},
   "outputs": [
    {
     "data": {
      "text/plain": [
       "<matplotlib.collections.PathCollection at 0x7f26132129b0>"
      ]
     },
     "execution_count": 43,
     "metadata": {},
     "output_type": "execute_result"
    },
    {
     "data": {
      "image/png": "[encoded data removed]",
      "text/plain": [
       "<Figure size 640x480 with 1 Axes>"
      ]
     },
     "metadata": {},
     "output_type": "display_data"
    }
   ],
   "source": [
    "plt.scatter(x_scaled[:,0],x_scaled[:,1],c = dbscan.labels_)"
   ]
  },
  {
   "cell_type": "code",
   "execution_count": 44,
   "id": "91bb17b2-4d5c-45bb-a0fe-dbe8670b4025",
   "metadata": {},
   "outputs": [],
   "source": [
    "# Shihouette score\n",
    "from sklearn.metrics import silhouette_score"
   ]
  },
  {
   "cell_type": "code",
   "execution_count": 45,
   "id": "08469f3e-3239-4145-98c0-22448a6e305f",
   "metadata": {},
   "outputs": [],
   "source": [
    "silhouette_coefficients = []"
   ]
  },
  {
   "cell_type": "code",
   "execution_count": 46,
   "id": "004da9c2-7e69-4b00-9d07-9eed98504d41",
   "metadata": {},
   "outputs": [],
   "source": [
    "for k in range(2,11):\n",
    "    dbscan = DBSCAN(eps = 0.3)\n",
    "    dbscan.fit(x_scaled)\n",
    "    score = silhouette_score(x_scaled,dbscan.labels_)\n",
    "    silhouette_coefficients.append(score)"
   ]
  },
  {
   "cell_type": "code",
   "execution_count": 47,
   "id": "9ba35b56-9c90-4300-9174-fe2d1002f616",
   "metadata": {},
   "outputs": [
    {
     "data": {
      "text/plain": [
       "[0.12145210950514193,\n",
       " 0.12145210950514193,\n",
       " 0.12145210950514193,\n",
       " 0.12145210950514193,\n",
       " 0.12145210950514193,\n",
       " 0.12145210950514193,\n",
       " 0.12145210950514193,\n",
       " 0.12145210950514193,\n",
       " 0.12145210950514193]"
      ]
     },
     "execution_count": 47,
     "metadata": {},
     "output_type": "execute_result"
    }
   ],
   "source": [
    "silhouette_coefficients"
   ]
  },
  {
   "cell_type": "code",
   "execution_count": 48,
   "id": "34dcafd9-ae77-4403-a16d-f06380c94565",
   "metadata": {},
   "outputs": [
    {
     "data": {
      "image/png": "[encoded data removed]",
      "text/plain": [
       "<Figure size 640x480 with 1 Axes>"
      ]
     },
     "metadata": {},
     "output_type": "display_data"
    }
   ],
   "source": [
    "plt.plot(range(2,11),silhouette_coefficients)\n",
    "plt.xticks(range(2,11))\n",
    "plt.xlabel(\"No.of clusters\")\n",
    "plt.ylabel(\"silhouette coefficients\")\n",
    "plt.show()"
   ]
  },
  {
   "cell_type": "code",
   "execution_count": null,
   "id": "b898d017-f3c5-456d-8113-e5921f71b6c9",
   "metadata": {},
   "outputs": [],
   "source": [
    "The interpretation of the obtained clusters depends on the specific dataset. In this case, the make_moons dataset consists of points that form two interleaving half circles. The DBSCAN algorithm can identify these two shapes as clusters even though the data points are not clearly separable using traditional distance-based clustering algorithms like k-means. DBSCAN can effectively capture non-linear structures and identify clusters with varying densities.\n",
    "\n",
    "In a practical scenario, you would apply the DBSCAN algorithm to a dataset relevant to your problem domain. The interpretation of the clusters would depend on the specific context of the data and the underlying patterns that DBSCAN helps to uncover. It's important to assess the clusters based on the domain knowledge and understanding of the dataset to derive meaningful insights from the clustering results.\n"
   ]
  }
 ],
 "metadata": {
  "kernelspec": {
   "display_name": "Python 3 (ipykernel)",
   "language": "python",
   "name": "python3"
  },
  "language_info": {
   "codemirror_mode": {
    "name": "ipython",
    "version": 3
   },
   "file_extension": ".py",
   "mimetype": "text/x-python",
   "name": "python",
   "nbconvert_exporter": "python",
   "pygments_lexer": "ipython3",
   "version": "3.10.8"
  }
 },
 "nbformat": 4,
 "nbformat_minor": 5
}
